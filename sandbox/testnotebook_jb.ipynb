{
 "cells": [
  {
   "cell_type": "code",
   "execution_count": 1,
   "metadata": {},
   "outputs": [],
   "source": [
    "# Import\n",
    "import pandas as pd\n",
    "import numpy as np\n",
    "from sqlalchemy import create_engine\n",
    "\n",
    "database_path = \"../da_job_data.sqlite\""
   ]
  },
  {
   "cell_type": "code",
   "execution_count": 2,
   "metadata": {},
   "outputs": [],
   "source": [
    "# Create Engine\n",
    "engine = create_engine(f\"sqlite:///{database_path}\")\n",
    "conn = engine.connect()"
   ]
  },
  {
   "cell_type": "code",
   "execution_count": 3,
   "metadata": {},
   "outputs": [],
   "source": [
    "# Query All Records in the the Database\n",
    "data = pd.read_sql(\"SELECT * FROM da_data\", conn)"
   ]
  },
  {
   "cell_type": "code",
   "execution_count": 4,
   "metadata": {},
   "outputs": [
    {
     "data": {
      "text/html": [
       "<div>\n",
       "<style scoped>\n",
       "    .dataframe tbody tr th:only-of-type {\n",
       "        vertical-align: middle;\n",
       "    }\n",
       "\n",
       "    .dataframe tbody tr th {\n",
       "        vertical-align: top;\n",
       "    }\n",
       "\n",
       "    .dataframe thead th {\n",
       "        text-align: right;\n",
       "    }\n",
       "</style>\n",
       "<table border=\"1\" class=\"dataframe\">\n",
       "  <thead>\n",
       "    <tr style=\"text-align: right;\">\n",
       "      <th></th>\n",
       "      <th>id</th>\n",
       "      <th>title</th>\n",
       "      <th>company_name</th>\n",
       "      <th>location</th>\n",
       "      <th>via</th>\n",
       "      <th>description</th>\n",
       "      <th>extensions</th>\n",
       "      <th>schedule_type</th>\n",
       "      <th>work_from_home</th>\n",
       "      <th>salary_hourly</th>\n",
       "      <th>salary_yearly</th>\n",
       "      <th>salary_standardized</th>\n",
       "      <th>description_tokens</th>\n",
       "    </tr>\n",
       "  </thead>\n",
       "  <tbody>\n",
       "    <tr>\n",
       "      <th>0</th>\n",
       "      <td>1</td>\n",
       "      <td>Data Analyst</td>\n",
       "      <td>Applicantz</td>\n",
       "      <td>Anywhere</td>\n",
       "      <td>via LinkedIn</td>\n",
       "      <td>Open to work on W2 or on Corp-to-Corp (for vis...</td>\n",
       "      <td>['41 minutes ago', 'Work from home', 'Contract...</td>\n",
       "      <td>Contractor</td>\n",
       "      <td>TRUE</td>\n",
       "      <td></td>\n",
       "      <td></td>\n",
       "      <td></td>\n",
       "      <td>['qlik', 'power_bi', 'power_bi']</td>\n",
       "    </tr>\n",
       "    <tr>\n",
       "      <th>1</th>\n",
       "      <td>2</td>\n",
       "      <td>Data Analyst I (Remote Optional)</td>\n",
       "      <td>Talentify.io</td>\n",
       "      <td>Anywhere</td>\n",
       "      <td>via LinkedIn</td>\n",
       "      <td>Talentify helps candidates around the world to...</td>\n",
       "      <td>['15 hours ago', 'Work from home', 'Full-time']</td>\n",
       "      <td>Full-time</td>\n",
       "      <td>TRUE</td>\n",
       "      <td></td>\n",
       "      <td></td>\n",
       "      <td></td>\n",
       "      <td>['excel']</td>\n",
       "    </tr>\n",
       "    <tr>\n",
       "      <th>2</th>\n",
       "      <td>3</td>\n",
       "      <td>Data Analyst II</td>\n",
       "      <td>EDWARD JONES</td>\n",
       "      <td>Whiteman AFB, MO</td>\n",
       "      <td>via Monster</td>\n",
       "      <td>At Edward Jones, we help clients achieve their...</td>\n",
       "      <td>['24 hours ago', 'Full-time', 'Health insurance']</td>\n",
       "      <td>Full-time</td>\n",
       "      <td></td>\n",
       "      <td></td>\n",
       "      <td></td>\n",
       "      <td></td>\n",
       "      <td>['sas', 'snowflake', 'excel', 'power_bi', 'pyt...</td>\n",
       "    </tr>\n",
       "    <tr>\n",
       "      <th>3</th>\n",
       "      <td>4</td>\n",
       "      <td>Data Analyst</td>\n",
       "      <td>Rose International</td>\n",
       "      <td>United States</td>\n",
       "      <td>via Indeed</td>\n",
       "      <td>Position Title\\nPosition Number\\nLocation...\\n...</td>\n",
       "      <td>['7 hours ago']</td>\n",
       "      <td></td>\n",
       "      <td></td>\n",
       "      <td></td>\n",
       "      <td></td>\n",
       "      <td></td>\n",
       "      <td>['excel', 'tableau', 'cognos', 'sql', 'word']</td>\n",
       "    </tr>\n",
       "    <tr>\n",
       "      <th>4</th>\n",
       "      <td>5</td>\n",
       "      <td>Senior Data Analyst [Remote or San Diego, CA]</td>\n",
       "      <td>EDF Renewables North America</td>\n",
       "      <td>Anywhere</td>\n",
       "      <td>via LinkedIn</td>\n",
       "      <td>Scope of Position\\n\\nThe Pre-Construction Esti...</td>\n",
       "      <td>['21 hours ago', 'Work from home', 'Full-time']</td>\n",
       "      <td>Full-time</td>\n",
       "      <td>TRUE</td>\n",
       "      <td></td>\n",
       "      <td></td>\n",
       "      <td></td>\n",
       "      <td>['pandas', 'sql', 'tableau', 'word', 'power_bi...</td>\n",
       "    </tr>\n",
       "  </tbody>\n",
       "</table>\n",
       "</div>"
      ],
      "text/plain": [
       "   id                                          title  \\\n",
       "0   1                                   Data Analyst   \n",
       "1   2               Data Analyst I (Remote Optional)   \n",
       "2   3                                Data Analyst II   \n",
       "3   4                                   Data Analyst   \n",
       "4   5  Senior Data Analyst [Remote or San Diego, CA]   \n",
       "\n",
       "                   company_name          location           via  \\\n",
       "0                    Applicantz          Anywhere  via LinkedIn   \n",
       "1                  Talentify.io          Anywhere  via LinkedIn   \n",
       "2                  EDWARD JONES  Whiteman AFB, MO   via Monster   \n",
       "3            Rose International     United States    via Indeed   \n",
       "4  EDF Renewables North America          Anywhere  via LinkedIn   \n",
       "\n",
       "                                         description  \\\n",
       "0  Open to work on W2 or on Corp-to-Corp (for vis...   \n",
       "1  Talentify helps candidates around the world to...   \n",
       "2  At Edward Jones, we help clients achieve their...   \n",
       "3  Position Title\\nPosition Number\\nLocation...\\n...   \n",
       "4  Scope of Position\\n\\nThe Pre-Construction Esti...   \n",
       "\n",
       "                                          extensions schedule_type  \\\n",
       "0  ['41 minutes ago', 'Work from home', 'Contract...    Contractor   \n",
       "1    ['15 hours ago', 'Work from home', 'Full-time']     Full-time   \n",
       "2  ['24 hours ago', 'Full-time', 'Health insurance']     Full-time   \n",
       "3                                    ['7 hours ago']                 \n",
       "4    ['21 hours ago', 'Work from home', 'Full-time']     Full-time   \n",
       "\n",
       "  work_from_home salary_hourly salary_yearly salary_standardized  \\\n",
       "0           TRUE                                                   \n",
       "1           TRUE                                                   \n",
       "2                                                                  \n",
       "3                                                                  \n",
       "4           TRUE                                                   \n",
       "\n",
       "                                  description_tokens  \n",
       "0                   ['qlik', 'power_bi', 'power_bi']  \n",
       "1                                          ['excel']  \n",
       "2  ['sas', 'snowflake', 'excel', 'power_bi', 'pyt...  \n",
       "3      ['excel', 'tableau', 'cognos', 'sql', 'word']  \n",
       "4  ['pandas', 'sql', 'tableau', 'word', 'power_bi...  "
      ]
     },
     "execution_count": 4,
     "metadata": {},
     "output_type": "execute_result"
    }
   ],
   "source": [
    "# Preview the Data\n",
    "data.head()"
   ]
  },
  {
   "cell_type": "code",
   "execution_count": 5,
   "metadata": {},
   "outputs": [
    {
     "name": "stdout",
     "output_type": "stream",
     "text": [
      "<class 'pandas.core.frame.DataFrame'>\n",
      "RangeIndex: 10497 entries, 0 to 10496\n",
      "Data columns (total 13 columns):\n",
      " #   Column               Non-Null Count  Dtype \n",
      "---  ------               --------------  ----- \n",
      " 0   id                   10497 non-null  int64 \n",
      " 1   title                10497 non-null  object\n",
      " 2   company_name         10497 non-null  object\n",
      " 3   location             10497 non-null  object\n",
      " 4   via                  10497 non-null  object\n",
      " 5   description          10497 non-null  object\n",
      " 6   extensions           10497 non-null  object\n",
      " 7   schedule_type        10497 non-null  object\n",
      " 8   work_from_home       10497 non-null  object\n",
      " 9   salary_hourly        10497 non-null  object\n",
      " 10  salary_yearly        10497 non-null  object\n",
      " 11  salary_standardized  10497 non-null  object\n",
      " 12  description_tokens   10497 non-null  object\n",
      "dtypes: int64(1), object(12)\n",
      "memory usage: 1.0+ MB\n"
     ]
    }
   ],
   "source": [
    "data.info()\n"
   ]
  },
  {
   "cell_type": "code",
   "execution_count": 6,
   "metadata": {},
   "outputs": [],
   "source": [
    "data['salary_standardized'].replace(r'^\\s*$', np.nan, regex=True, inplace=True)\n",
    "data['salary_standardized'] = data['salary_standardized'].astype(float)"
   ]
  },
  {
   "cell_type": "code",
   "execution_count": 7,
   "metadata": {},
   "outputs": [
    {
     "name": "stdout",
     "output_type": "stream",
     "text": [
      "<class 'pandas.core.frame.DataFrame'>\n",
      "RangeIndex: 10497 entries, 0 to 10496\n",
      "Data columns (total 13 columns):\n",
      " #   Column               Non-Null Count  Dtype  \n",
      "---  ------               --------------  -----  \n",
      " 0   id                   10497 non-null  int64  \n",
      " 1   title                10497 non-null  object \n",
      " 2   company_name         10497 non-null  object \n",
      " 3   location             10497 non-null  object \n",
      " 4   via                  10497 non-null  object \n",
      " 5   description          10497 non-null  object \n",
      " 6   extensions           10497 non-null  object \n",
      " 7   schedule_type        10497 non-null  object \n",
      " 8   work_from_home       10497 non-null  object \n",
      " 9   salary_hourly        10497 non-null  object \n",
      " 10  salary_yearly        10497 non-null  object \n",
      " 11  salary_standardized  2103 non-null   float64\n",
      " 12  description_tokens   10497 non-null  object \n",
      "dtypes: float64(1), int64(1), object(11)\n",
      "memory usage: 1.0+ MB\n"
     ]
    }
   ],
   "source": [
    "data.info()"
   ]
  },
  {
   "cell_type": "code",
   "execution_count": 8,
   "metadata": {},
   "outputs": [],
   "source": [
    "data.to_json('../data/data.json', orient='records')"
   ]
  },
  {
   "cell_type": "code",
   "execution_count": 9,
   "metadata": {},
   "outputs": [],
   "source": [
    "# closing the database connection\n",
    "#conn.close()"
   ]
  }
 ],
 "metadata": {
  "kernelspec": {
   "display_name": "base",
   "language": "python",
   "name": "python3"
  },
  "language_info": {
   "codemirror_mode": {
    "name": "ipython",
    "version": 3
   },
   "file_extension": ".py",
   "mimetype": "text/x-python",
   "name": "python",
   "nbconvert_exporter": "python",
   "pygments_lexer": "ipython3",
   "version": "3.8.5"
  },
  "orig_nbformat": 4,
  "vscode": {
   "interpreter": {
    "hash": "b3e23ab2c2bc50f907f9b22949e1c01fe51fab78d0ebb105dec217407c9b0200"
   }
  }
 },
 "nbformat": 4,
 "nbformat_minor": 2
}
