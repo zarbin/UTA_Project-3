{
 "cells": [
  {
   "attachments": {},
   "cell_type": "markdown",
   "metadata": {},
   "source": [
    "## Import dependencies and data"
   ]
  },
  {
   "cell_type": "code",
   "execution_count": 1,
   "metadata": {},
   "outputs": [],
   "source": [
    "#uncomment and run on first run \n",
    "#import nltk\n",
    "#nltk.download('punkt')\n",
    "#nltk.download('stopwords')"
   ]
  },
  {
   "cell_type": "code",
   "execution_count": 2,
   "metadata": {},
   "outputs": [],
   "source": [
    "#import dependencies\n",
    "import pandas as pd\n",
    "from nltk.tokenize import word_tokenize, MWETokenizer\n",
    "from nltk.corpus import stopwords\n",
    "from nltk.probability import FreqDist\n",
    "import json\n",
    "import matplotlib.pyplot as plt\n"
   ]
  },
  {
   "cell_type": "code",
   "execution_count": 3,
   "metadata": {},
   "outputs": [],
   "source": [
    "path = \"../data/data.json\""
   ]
  },
  {
   "cell_type": "code",
   "execution_count": 4,
   "metadata": {},
   "outputs": [],
   "source": [
    "# Opening JSON file\n",
    "f = open(path)\n",
    "  \n",
    "# returns JSON object as a dictionary\n",
    "data = json.load(f)"
   ]
  },
  {
   "cell_type": "code",
   "execution_count": 5,
   "metadata": {},
   "outputs": [
    {
     "data": {
      "text/plain": [
       "{'id': 1,\n",
       " 'title': 'Data Analyst',\n",
       " 'company_name': 'Applicantz',\n",
       " 'location': 'Anywhere',\n",
       " 'via': 'via LinkedIn',\n",
       " 'description': 'Open to work on W2 or on Corp-to-Corp (for visa candidates). THIS IS A LONG TERM CONTRACT POSITION WITH ONE OF THE LARGEST, GLOBAL, TECHNOLOGY LEADER. Remote work.\\n\\nOur Client is a Fortune 350 company that engages in the design, manufacturing, marketing, and service of semiconductor processing equipment. Looking for a Data Analyst that knows Power BI very well and has 3-5 years of... experience\\n\\nSkills\\n• Strong mathematical skills to help collect, measure, organize and analyze data\\n• Adept at queries, writing reports, and making presentations\\n• Proven working experience in data analysis\\n• Knowledge of data visualization software like Qlik and must know PowerBI\\n• Problem-solving skills\\n• Accuracy and attention to detail\\n• Team-working skills\\n\\nRoles and Responsibilities:\\n• Using automated tools to extract data from primary and secondary sources\\n• Create reports for internal teams\\n• Collaborate with team members to collect and analyze data\\n• Use graphs and other methods to visualize data\\n• Create presentations and reports based on recommendations and findings',\n",
       " 'extensions': \"['41 minutes ago', 'Work from home', 'Contractor']\",\n",
       " 'schedule_type': 'Contractor',\n",
       " 'work_from_home': 'TRUE',\n",
       " 'salary_hourly': '',\n",
       " 'salary_yearly': '',\n",
       " 'salary_standardized': None,\n",
       " 'description_tokens': \"['qlik', 'power_bi', 'power_bi']\"}"
      ]
     },
     "execution_count": 5,
     "metadata": {},
     "output_type": "execute_result"
    }
   ],
   "source": [
    "#check that the data imported correctly\n",
    "data[0]"
   ]
  },
  {
   "cell_type": "code",
   "execution_count": 6,
   "metadata": {},
   "outputs": [],
   "source": [
    "# Closing file\n",
    "f.close()"
   ]
  },
  {
   "attachments": {},
   "cell_type": "markdown",
   "metadata": {},
   "source": [
    "#### Converting the json to a dataframe for analysis"
   ]
  },
  {
   "cell_type": "code",
   "execution_count": 7,
   "metadata": {},
   "outputs": [
    {
     "data": {
      "text/html": [
       "<div>\n",
       "<style scoped>\n",
       "    .dataframe tbody tr th:only-of-type {\n",
       "        vertical-align: middle;\n",
       "    }\n",
       "\n",
       "    .dataframe tbody tr th {\n",
       "        vertical-align: top;\n",
       "    }\n",
       "\n",
       "    .dataframe thead th {\n",
       "        text-align: right;\n",
       "    }\n",
       "</style>\n",
       "<table border=\"1\" class=\"dataframe\">\n",
       "  <thead>\n",
       "    <tr style=\"text-align: right;\">\n",
       "      <th></th>\n",
       "      <th>id</th>\n",
       "      <th>title</th>\n",
       "      <th>company_name</th>\n",
       "      <th>location</th>\n",
       "      <th>via</th>\n",
       "      <th>description</th>\n",
       "      <th>extensions</th>\n",
       "      <th>schedule_type</th>\n",
       "      <th>work_from_home</th>\n",
       "      <th>salary_hourly</th>\n",
       "      <th>salary_yearly</th>\n",
       "      <th>salary_standardized</th>\n",
       "      <th>description_tokens</th>\n",
       "    </tr>\n",
       "  </thead>\n",
       "  <tbody>\n",
       "    <tr>\n",
       "      <th>0</th>\n",
       "      <td>1</td>\n",
       "      <td>Data Analyst</td>\n",
       "      <td>Applicantz</td>\n",
       "      <td>Anywhere</td>\n",
       "      <td>via LinkedIn</td>\n",
       "      <td>Open to work on W2 or on Corp-to-Corp (for vis...</td>\n",
       "      <td>['41 minutes ago', 'Work from home', 'Contract...</td>\n",
       "      <td>Contractor</td>\n",
       "      <td>TRUE</td>\n",
       "      <td></td>\n",
       "      <td></td>\n",
       "      <td>NaN</td>\n",
       "      <td>['qlik', 'power_bi', 'power_bi']</td>\n",
       "    </tr>\n",
       "    <tr>\n",
       "      <th>1</th>\n",
       "      <td>2</td>\n",
       "      <td>Data Analyst I (Remote Optional)</td>\n",
       "      <td>Talentify.io</td>\n",
       "      <td>Anywhere</td>\n",
       "      <td>via LinkedIn</td>\n",
       "      <td>Talentify helps candidates around the world to...</td>\n",
       "      <td>['15 hours ago', 'Work from home', 'Full-time']</td>\n",
       "      <td>Full-time</td>\n",
       "      <td>TRUE</td>\n",
       "      <td></td>\n",
       "      <td></td>\n",
       "      <td>NaN</td>\n",
       "      <td>['excel']</td>\n",
       "    </tr>\n",
       "    <tr>\n",
       "      <th>2</th>\n",
       "      <td>3</td>\n",
       "      <td>Data Analyst II</td>\n",
       "      <td>EDWARD JONES</td>\n",
       "      <td>Whiteman AFB, MO</td>\n",
       "      <td>via Monster</td>\n",
       "      <td>At Edward Jones, we help clients achieve their...</td>\n",
       "      <td>['24 hours ago', 'Full-time', 'Health insurance']</td>\n",
       "      <td>Full-time</td>\n",
       "      <td></td>\n",
       "      <td></td>\n",
       "      <td></td>\n",
       "      <td>NaN</td>\n",
       "      <td>['sas', 'snowflake', 'excel', 'power_bi', 'pyt...</td>\n",
       "    </tr>\n",
       "    <tr>\n",
       "      <th>3</th>\n",
       "      <td>4</td>\n",
       "      <td>Data Analyst</td>\n",
       "      <td>Rose International</td>\n",
       "      <td>United States</td>\n",
       "      <td>via Indeed</td>\n",
       "      <td>Position Title\\nPosition Number\\nLocation...\\n...</td>\n",
       "      <td>['7 hours ago']</td>\n",
       "      <td></td>\n",
       "      <td></td>\n",
       "      <td></td>\n",
       "      <td></td>\n",
       "      <td>NaN</td>\n",
       "      <td>['excel', 'tableau', 'cognos', 'sql', 'word']</td>\n",
       "    </tr>\n",
       "    <tr>\n",
       "      <th>4</th>\n",
       "      <td>5</td>\n",
       "      <td>Senior Data Analyst [Remote or San Diego, CA]</td>\n",
       "      <td>EDF Renewables North America</td>\n",
       "      <td>Anywhere</td>\n",
       "      <td>via LinkedIn</td>\n",
       "      <td>Scope of Position\\n\\nThe Pre-Construction Esti...</td>\n",
       "      <td>['21 hours ago', 'Work from home', 'Full-time']</td>\n",
       "      <td>Full-time</td>\n",
       "      <td>TRUE</td>\n",
       "      <td></td>\n",
       "      <td></td>\n",
       "      <td>NaN</td>\n",
       "      <td>['pandas', 'sql', 'tableau', 'word', 'power_bi...</td>\n",
       "    </tr>\n",
       "  </tbody>\n",
       "</table>\n",
       "</div>"
      ],
      "text/plain": [
       "   id                                          title  \\\n",
       "0   1                                   Data Analyst   \n",
       "1   2               Data Analyst I (Remote Optional)   \n",
       "2   3                                Data Analyst II   \n",
       "3   4                                   Data Analyst   \n",
       "4   5  Senior Data Analyst [Remote or San Diego, CA]   \n",
       "\n",
       "                   company_name          location           via  \\\n",
       "0                    Applicantz          Anywhere  via LinkedIn   \n",
       "1                  Talentify.io          Anywhere  via LinkedIn   \n",
       "2                  EDWARD JONES  Whiteman AFB, MO   via Monster   \n",
       "3            Rose International     United States    via Indeed   \n",
       "4  EDF Renewables North America          Anywhere  via LinkedIn   \n",
       "\n",
       "                                         description  \\\n",
       "0  Open to work on W2 or on Corp-to-Corp (for vis...   \n",
       "1  Talentify helps candidates around the world to...   \n",
       "2  At Edward Jones, we help clients achieve their...   \n",
       "3  Position Title\\nPosition Number\\nLocation...\\n...   \n",
       "4  Scope of Position\\n\\nThe Pre-Construction Esti...   \n",
       "\n",
       "                                          extensions schedule_type  \\\n",
       "0  ['41 minutes ago', 'Work from home', 'Contract...    Contractor   \n",
       "1    ['15 hours ago', 'Work from home', 'Full-time']     Full-time   \n",
       "2  ['24 hours ago', 'Full-time', 'Health insurance']     Full-time   \n",
       "3                                    ['7 hours ago']                 \n",
       "4    ['21 hours ago', 'Work from home', 'Full-time']     Full-time   \n",
       "\n",
       "  work_from_home salary_hourly salary_yearly  salary_standardized  \\\n",
       "0           TRUE                                              NaN   \n",
       "1           TRUE                                              NaN   \n",
       "2                                                             NaN   \n",
       "3                                                             NaN   \n",
       "4           TRUE                                              NaN   \n",
       "\n",
       "                                  description_tokens  \n",
       "0                   ['qlik', 'power_bi', 'power_bi']  \n",
       "1                                          ['excel']  \n",
       "2  ['sas', 'snowflake', 'excel', 'power_bi', 'pyt...  \n",
       "3      ['excel', 'tableau', 'cognos', 'sql', 'word']  \n",
       "4  ['pandas', 'sql', 'tableau', 'word', 'power_bi...  "
      ]
     },
     "execution_count": 7,
     "metadata": {},
     "output_type": "execute_result"
    }
   ],
   "source": [
    "df = pd.read_json(path)\n",
    "df.head()"
   ]
  },
  {
   "cell_type": "code",
   "execution_count": 8,
   "metadata": {},
   "outputs": [
    {
     "name": "stdout",
     "output_type": "stream",
     "text": [
      "<class 'pandas.core.frame.DataFrame'>\n",
      "RangeIndex: 10497 entries, 0 to 10496\n",
      "Data columns (total 13 columns):\n",
      " #   Column               Non-Null Count  Dtype  \n",
      "---  ------               --------------  -----  \n",
      " 0   id                   10497 non-null  int64  \n",
      " 1   title                10497 non-null  object \n",
      " 2   company_name         10497 non-null  object \n",
      " 3   location             10497 non-null  object \n",
      " 4   via                  10497 non-null  object \n",
      " 5   description          10497 non-null  object \n",
      " 6   extensions           10497 non-null  object \n",
      " 7   schedule_type        10497 non-null  object \n",
      " 8   work_from_home       10497 non-null  object \n",
      " 9   salary_hourly        10497 non-null  object \n",
      " 10  salary_yearly        10497 non-null  object \n",
      " 11  salary_standardized  2103 non-null   float64\n",
      " 12  description_tokens   10497 non-null  object \n",
      "dtypes: float64(1), int64(1), object(11)\n",
      "memory usage: 1.0+ MB\n"
     ]
    }
   ],
   "source": [
    "df.info()"
   ]
  },
  {
   "attachments": {},
   "cell_type": "markdown",
   "metadata": {},
   "source": [
    "## Work From Home vs. In Office Postings"
   ]
  },
  {
   "cell_type": "code",
   "execution_count": 9,
   "metadata": {},
   "outputs": [
    {
     "data": {
      "image/png": "[encoded data removed]",
      "text/plain": [
       "<Figure size 432x288 with 1 Axes>"
      ]
     },
     "metadata": {
      "needs_background": "light"
     },
     "output_type": "display_data"
    }
   ],
   "source": [
    "df['work_from_home'].value_counts().plot(kind = 'bar')\n",
    "plt.xticks([0, 1], ['In Office', 'Work From Home'], rotation = 0) \n",
    "plt.title('Work From Home vs. In Office Postings')\n",
    "plt.ylabel('Number of Job Postings')\n",
    "plt.savefig('../images/wfh_office.png')\n",
    "plt.show()"
   ]
  },
  {
   "attachments": {},
   "cell_type": "markdown",
   "metadata": {},
   "source": [
    "## Salary Standardized to Yearly Pay"
   ]
  },
  {
   "cell_type": "code",
   "execution_count": 10,
   "metadata": {},
   "outputs": [
    {
     "name": "stderr",
     "output_type": "stream",
     "text": [
      "/Users/kimsernett/opt/anaconda3/envs/PythonData/lib/python3.7/site-packages/numpy/lib/histograms.py:839: RuntimeWarning: invalid value encountered in greater_equal\n",
      "  keep = (tmp_a >= first_edge)\n",
      "/Users/kimsernett/opt/anaconda3/envs/PythonData/lib/python3.7/site-packages/numpy/lib/histograms.py:840: RuntimeWarning: invalid value encountered in less_equal\n",
      "  keep &= (tmp_a <= last_edge)\n"
     ]
    },
    {
     "data": {
      "image/png": "[encoded data removed]",
      "text/plain": [
       "<Figure size 432x288 with 1 Axes>"
      ]
     },
     "metadata": {
      "needs_background": "light"
     },
     "output_type": "display_data"
    }
   ],
   "source": [
    "salary_list = list(df['salary_standardized'])\n",
    "\n",
    "plt.hist(salary_list, bins = 15)\n",
    "plt.title('Salary Standardized to Yearly Pay')\n",
    "plt.ylabel('Number of Job Postings')\n",
    "plt.xlabel('$USD Per Year')\n",
    "plt.savefig('../images/salary_standardized.png')\n",
    "plt.show()"
   ]
  },
  {
   "attachments": {},
   "cell_type": "markdown",
   "metadata": {},
   "source": [
    "## Number of Postings Per Job Title (Top 10)"
   ]
  },
  {
   "cell_type": "code",
   "execution_count": 11,
   "metadata": {},
   "outputs": [
    {
     "data": {
      "text/plain": [
       "Data Analyst                                             1124\n",
       "Senior Data Analyst                                       398\n",
       "Lead Data Analyst                                         233\n",
       "Sr. Data Analyst, Marketing Operations                    203\n",
       "Data Analyst II                                           196\n",
       "                                                         ... \n",
       "ABM Targeting + Operations Analyst                          1\n",
       "Strategy Analyst II - Financial Planning and Analysis       1\n",
       "2022 Aftermarket Data Analyst                               1\n",
       "Product - Python - Data Analyst                             1\n",
       "Pricing Analytics and Recommendation Tool                   1\n",
       "Name: title, Length: 4283, dtype: int64"
      ]
     },
     "execution_count": 11,
     "metadata": {},
     "output_type": "execute_result"
    }
   ],
   "source": [
    "title_df = df['title'].value_counts()\n",
    "title_df"
   ]
  },
  {
   "cell_type": "code",
   "execution_count": 12,
   "metadata": {},
   "outputs": [
    {
     "data": {
      "text/plain": [
       "Data Analyst                                   1177\n",
       "Senior Data Analyst                             408\n",
       "Lead Data Analyst                               233\n",
       "Data Analyst Ii                                 223\n",
       "Sr. Data Analyst, Marketing Operations          203\n",
       "Business Data Analyst                           137\n",
       "Senior Data Analyst, Business Optimization       99\n",
       "Data Scientist                                   97\n",
       "Junior Data Analyst                              60\n",
       "Senior Performance Marketing (Data Analyst)      59\n",
       "Name: title, dtype: int64"
      ]
     },
     "execution_count": 12,
     "metadata": {},
     "output_type": "execute_result"
    }
   ],
   "source": [
    "#convert all job titles to lowercase to account for inconsistencies in casing\n",
    "df['title'] = df['title'].str.lower()\n",
    "#convert to title case\n",
    "df['title'] = df['title'].str.title()\n",
    "title_lc_df = df['title'].value_counts()\n",
    "title_lc_df.head(10)"
   ]
  },
  {
   "cell_type": "code",
   "execution_count": 13,
   "metadata": {},
   "outputs": [
    {
     "data": {
      "image/png": "[encoded data removed]",
      "text/plain": [
       "<Figure size 432x288 with 1 Axes>"
      ]
     },
     "metadata": {
      "needs_background": "light"
     },
     "output_type": "display_data"
    }
   ],
   "source": [
    "#filter top 10 job titles\n",
    "top_ten_titles = title_lc_df.head(10)\n",
    "top_ten_titles.plot(kind='bar')\n",
    "plt.ylabel('Number of Job Postings')\n",
    "plt.xlabel('Job Title')\n",
    "plt.title('Number of Postings Per Job Title (Top 10)')\n",
    "#plt.xticks(rotation = 45)\n",
    "plt.savefig('../images/postings_per_title.png')\n",
    "plt.show()"
   ]
  },
  {
   "attachments": {},
   "cell_type": "markdown",
   "metadata": {},
   "source": [
    "Title vs Salary comparison"
   ]
  },
  {
   "cell_type": "code",
   "execution_count": 14,
   "metadata": {},
   "outputs": [
    {
     "data": {
      "text/html": [
       "<div>\n",
       "<style scoped>\n",
       "    .dataframe tbody tr th:only-of-type {\n",
       "        vertical-align: middle;\n",
       "    }\n",
       "\n",
       "    .dataframe tbody tr th {\n",
       "        vertical-align: top;\n",
       "    }\n",
       "\n",
       "    .dataframe thead th {\n",
       "        text-align: right;\n",
       "    }\n",
       "</style>\n",
       "<table border=\"1\" class=\"dataframe\">\n",
       "  <thead>\n",
       "    <tr style=\"text-align: right;\">\n",
       "      <th></th>\n",
       "      <th>title</th>\n",
       "      <th>salary_standardized</th>\n",
       "    </tr>\n",
       "  </thead>\n",
       "  <tbody>\n",
       "    <tr>\n",
       "      <th>0</th>\n",
       "      <td>Data Analyst</td>\n",
       "      <td>NaN</td>\n",
       "    </tr>\n",
       "    <tr>\n",
       "      <th>1</th>\n",
       "      <td>Data Analyst I (Remote Optional)</td>\n",
       "      <td>NaN</td>\n",
       "    </tr>\n",
       "    <tr>\n",
       "      <th>2</th>\n",
       "      <td>Data Analyst Ii</td>\n",
       "      <td>NaN</td>\n",
       "    </tr>\n",
       "    <tr>\n",
       "      <th>3</th>\n",
       "      <td>Data Analyst</td>\n",
       "      <td>NaN</td>\n",
       "    </tr>\n",
       "    <tr>\n",
       "      <th>4</th>\n",
       "      <td>Senior Data Analyst [Remote Or San Diego, Ca]</td>\n",
       "      <td>NaN</td>\n",
       "    </tr>\n",
       "    <tr>\n",
       "      <th>...</th>\n",
       "      <td>...</td>\n",
       "      <td>...</td>\n",
       "    </tr>\n",
       "    <tr>\n",
       "      <th>10492</th>\n",
       "      <td>Intern - Data Analytics</td>\n",
       "      <td>NaN</td>\n",
       "    </tr>\n",
       "    <tr>\n",
       "      <th>10493</th>\n",
       "      <td>Google Analytics Consultant</td>\n",
       "      <td>63440.0</td>\n",
       "    </tr>\n",
       "    <tr>\n",
       "      <th>10494</th>\n",
       "      <td>Expert In Google Sheets Needed To Create A Sim...</td>\n",
       "      <td>46800.0</td>\n",
       "    </tr>\n",
       "    <tr>\n",
       "      <th>10495</th>\n",
       "      <td>Google Analytics Specialist Troubleshoot Issue</td>\n",
       "      <td>145600.0</td>\n",
       "    </tr>\n",
       "    <tr>\n",
       "      <th>10496</th>\n",
       "      <td>In-Depth Shopify Sales, Product &amp; Behaviour An...</td>\n",
       "      <td>119600.0</td>\n",
       "    </tr>\n",
       "  </tbody>\n",
       "</table>\n",
       "<p>10497 rows × 2 columns</p>\n",
       "</div>"
      ],
      "text/plain": [
       "                                                   title  salary_standardized\n",
       "0                                           Data Analyst                  NaN\n",
       "1                       Data Analyst I (Remote Optional)                  NaN\n",
       "2                                        Data Analyst Ii                  NaN\n",
       "3                                           Data Analyst                  NaN\n",
       "4          Senior Data Analyst [Remote Or San Diego, Ca]                  NaN\n",
       "...                                                  ...                  ...\n",
       "10492                            Intern - Data Analytics                  NaN\n",
       "10493                        Google Analytics Consultant              63440.0\n",
       "10494  Expert In Google Sheets Needed To Create A Sim...              46800.0\n",
       "10495     Google Analytics Specialist Troubleshoot Issue             145600.0\n",
       "10496  In-Depth Shopify Sales, Product & Behaviour An...             119600.0\n",
       "\n",
       "[10497 rows x 2 columns]"
      ]
     },
     "execution_count": 14,
     "metadata": {},
     "output_type": "execute_result"
    }
   ],
   "source": [
    "#create new dataframe with only the job title and salary information for comparison\n",
    "title_salary_df = df[['title', 'salary_standardized']]\n",
    "title_salary_df"
   ]
  },
  {
   "cell_type": "code",
   "execution_count": 15,
   "metadata": {},
   "outputs": [
    {
     "data": {
      "text/html": [
       "<div>\n",
       "<style scoped>\n",
       "    .dataframe tbody tr th:only-of-type {\n",
       "        vertical-align: middle;\n",
       "    }\n",
       "\n",
       "    .dataframe tbody tr th {\n",
       "        vertical-align: top;\n",
       "    }\n",
       "\n",
       "    .dataframe thead th {\n",
       "        text-align: right;\n",
       "    }\n",
       "</style>\n",
       "<table border=\"1\" class=\"dataframe\">\n",
       "  <thead>\n",
       "    <tr style=\"text-align: right;\">\n",
       "      <th></th>\n",
       "      <th>title</th>\n",
       "      <th>salary_standardized</th>\n",
       "    </tr>\n",
       "  </thead>\n",
       "  <tbody>\n",
       "    <tr>\n",
       "      <th>6</th>\n",
       "      <td>Data Analyst</td>\n",
       "      <td>43680.0</td>\n",
       "    </tr>\n",
       "    <tr>\n",
       "      <th>8</th>\n",
       "      <td>Lead-Data Analyst</td>\n",
       "      <td>144481.5</td>\n",
       "    </tr>\n",
       "    <tr>\n",
       "      <th>11</th>\n",
       "      <td>Lead-Data Analyst</td>\n",
       "      <td>144481.5</td>\n",
       "    </tr>\n",
       "    <tr>\n",
       "      <th>13</th>\n",
       "      <td>Associate Data Analyst</td>\n",
       "      <td>55000.0</td>\n",
       "    </tr>\n",
       "    <tr>\n",
       "      <th>17</th>\n",
       "      <td>Lead-Data Analyst</td>\n",
       "      <td>144481.5</td>\n",
       "    </tr>\n",
       "    <tr>\n",
       "      <th>...</th>\n",
       "      <td>...</td>\n",
       "      <td>...</td>\n",
       "    </tr>\n",
       "    <tr>\n",
       "      <th>10491</th>\n",
       "      <td>Hiring Rockstar Google Analytics Implementatio...</td>\n",
       "      <td>62400.0</td>\n",
       "    </tr>\n",
       "    <tr>\n",
       "      <th>10493</th>\n",
       "      <td>Google Analytics Consultant</td>\n",
       "      <td>63440.0</td>\n",
       "    </tr>\n",
       "    <tr>\n",
       "      <th>10494</th>\n",
       "      <td>Expert In Google Sheets Needed To Create A Sim...</td>\n",
       "      <td>46800.0</td>\n",
       "    </tr>\n",
       "    <tr>\n",
       "      <th>10495</th>\n",
       "      <td>Google Analytics Specialist Troubleshoot Issue</td>\n",
       "      <td>145600.0</td>\n",
       "    </tr>\n",
       "    <tr>\n",
       "      <th>10496</th>\n",
       "      <td>In-Depth Shopify Sales, Product &amp; Behaviour An...</td>\n",
       "      <td>119600.0</td>\n",
       "    </tr>\n",
       "  </tbody>\n",
       "</table>\n",
       "<p>2103 rows × 2 columns</p>\n",
       "</div>"
      ],
      "text/plain": [
       "                                                   title  salary_standardized\n",
       "6                                           Data Analyst              43680.0\n",
       "8                                      Lead-Data Analyst             144481.5\n",
       "11                                     Lead-Data Analyst             144481.5\n",
       "13                                Associate Data Analyst              55000.0\n",
       "17                                     Lead-Data Analyst             144481.5\n",
       "...                                                  ...                  ...\n",
       "10491  Hiring Rockstar Google Analytics Implementatio...              62400.0\n",
       "10493                        Google Analytics Consultant              63440.0\n",
       "10494  Expert In Google Sheets Needed To Create A Sim...              46800.0\n",
       "10495     Google Analytics Specialist Troubleshoot Issue             145600.0\n",
       "10496  In-Depth Shopify Sales, Product & Behaviour An...             119600.0\n",
       "\n",
       "[2103 rows x 2 columns]"
      ]
     },
     "execution_count": 15,
     "metadata": {},
     "output_type": "execute_result"
    }
   ],
   "source": [
    "#drop NaN values from salary column\n",
    "title_salary_df = title_salary_df.dropna()\n",
    "title_salary_df\n"
   ]
  },
  {
   "cell_type": "code",
   "execution_count": 16,
   "metadata": {},
   "outputs": [],
   "source": [
    "#filter by the top ten job titles and gather average salary info\n",
    "title_for_ave = ['Data Analyst', 'Senior Data Analyst', 'Lead Data Analyst', 'Data Analyst Ii', 'Sr. Data Analyst, Marketing Operations', 'Business Data Analyst', 'Senior Data Analyst, Business Optimization', 'Data Scientist', 'Junior Data Analyst', 'Senior Performance Marketing (Data Analyst)']\n",
    "ave_salary = []\n",
    "\n",
    "for t in title_for_ave:\n",
    "    filter = title_salary_df.loc[title_salary_df['title'] == t]\n",
    "    ave_salary.append(filter['salary_standardized'].mean())\n"
   ]
  },
  {
   "cell_type": "code",
   "execution_count": 17,
   "metadata": {},
   "outputs": [
    {
     "data": {
      "image/png": "[encoded data removed]",
      "text/plain": [
       "<Figure size 432x288 with 1 Axes>"
      ]
     },
     "metadata": {
      "needs_background": "light"
     },
     "output_type": "display_data"
    }
   ],
   "source": [
    "plt.bar(title_for_ave, ave_salary)\n",
    "plt.ylabel('$USD Per Year')\n",
    "plt.xlabel('Job Title')\n",
    "plt.title('Average Yearly Salary By Job Title (Top 10)')\n",
    "plt.xticks(rotation = 90)\n",
    "plt.savefig('../images/salary_per_title.png')\n",
    "plt.show()"
   ]
  }
 ],
 "metadata": {
  "kernelspec": {
   "display_name": "PythonData",
   "language": "python",
   "name": "python3"
  },
  "language_info": {
   "codemirror_mode": {
    "name": "ipython",
    "version": 3
   },
   "file_extension": ".py",
   "mimetype": "text/x-python",
   "name": "python",
   "nbconvert_exporter": "python",
   "pygments_lexer": "ipython3",
   "version": "3.7.7"
  },
  "orig_nbformat": 4,
  "vscode": {
   "interpreter": {
    "hash": "cfe5946482b44ba494667c3075793eaef207b260f767ecb55b523455c1bba244"
   }
  }
 },
 "nbformat": 4,
 "nbformat_minor": 2
}
